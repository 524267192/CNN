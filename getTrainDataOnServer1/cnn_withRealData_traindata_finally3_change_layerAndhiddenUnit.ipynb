{
 "cells": [
  {
   "cell_type": "markdown",
   "id": "86939b8c",
   "metadata": {},
   "source": [
    "## 1.导入包"
   ]
  },
  {
   "cell_type": "code",
   "execution_count": 1,
   "id": "9ad074a0",
   "metadata": {},
   "outputs": [],
   "source": [
    "import torch\n",
    "import torch.nn as nn\n",
    "import torch.optim as optim\n",
    "import re\n",
    "import numpy as np\n",
    "from sklearn.model_selection import train_test_split\n",
    "import matplotlib.pyplot as plt\n",
    "\n",
    "np.set_printoptions(threshold=np.inf)\n",
    "device = torch.device(\"cuda\" if torch.cuda.is_available() else \"cpu\")\n"
   ]
  },
  {
   "cell_type": "code",
   "execution_count": 2,
   "id": "3b0d4fec",
   "metadata": {},
   "outputs": [
    {
     "data": {
      "text/plain": [
       "'\\n网格搜索(Grid Search)和Optuna，找到模型的最佳超参数组合\\n网格搜索适用于超参数空间较小、离散且较少的情况，而Optuna适用于超参数空间较大、连续或离散且较多的情况\\n下面要做的事情：\\n1.换新的面心值标签，现在数据过拟合，训练集下降但是测试集上升或者波动\\n2.考虑正则化或者假如droput层来防止过拟合\\n3.考虑数据预处理中采用数据标准化，让数据均匀分布\\n4.用不用考虑损失函数，学习率,epoch,adam优化器及其四个参数，的修改，模型用不用再添加几层让模型变复杂些（batch-size越大，训练越快，不影响准确率）\\n5.早停法（Early Stopping）：在训练过程中监控验证集上的性能，一旦性能停止改善，在一定epoch后停止训练，并保存模型，以防止过拟合。可以参照外国那案例\\n6.数据集的比例，不一定4：1，也可以95：5，当数据集足够大时，这样可以增加训练集数量\\n'"
      ]
     },
     "execution_count": 2,
     "metadata": {},
     "output_type": "execute_result"
    }
   ],
   "source": [
    "\"\"\"\n",
    "网格搜索(Grid Search)和Optuna，找到模型的最佳超参数组合\n",
    "网格搜索适用于超参数空间较小、离散且较少的情况，而Optuna适用于超参数空间较大、连续或离散且较多的情况\n",
    "下面要做的事情：\n",
    "1.换新的面心值标签，现在数据过拟合，训练集下降但是测试集上升或者波动\n",
    "2.考虑正则化或者假如droput层来防止过拟合\n",
    "3.考虑数据预处理中采用数据标准化，让数据均匀分布\n",
    "4.用不用考虑损失函数，学习率,epoch,adam优化器及其四个参数，的修改，模型用不用再添加几层让模型变复杂些（batch-size越大，训练越快，不影响准确率）\n",
    "5.早停法（Early Stopping）：在训练过程中监控验证集上的性能，一旦性能停止改善，在一定epoch后停止训练，并保存模型，以防止过拟合。可以参照外国那案例\n",
    "6.数据集的比例，不一定4：1，也可以95：5，当数据集足够大时，这样可以增加训练集数量\n",
    "\"\"\""
   ]
  },
  {
   "cell_type": "markdown",
   "id": "51c88f13",
   "metadata": {},
   "source": [
    "## 2.加载数据"
   ]
  },
  {
   "cell_type": "markdown",
   "id": "a4134756",
   "metadata": {},
   "source": [
    "\"\"\"\n",
    "1.功能：\n",
    "通过加载data和label文件，然后继续训练和预测。\n",
    "定义了一个6层卷积神经网络模型。每个卷积层后面跟着一个 ReLU 激活函数。第七层只有卷积，没有relu。\n",
    "输入数据n*64*64*2,这里的一个样本64*64可以看成一个图片格式（在此次任务中是速度，两者类似）\n",
    "输出是n*64*64*4\n",
    "\"\"\"\n",
    "\"\"\"txt保存为numpy格式发现可以减少存储大小，约缩小成1/4\n",
    "5.9G\t./all_data.npy\n",
    "12G\t./all_label.npy\n",
    "27G\t./data_64x64x2.txt\n",
    "53G\t./label_a_2x64x65x2.txt\n",
    "\"\"\""
   ]
  },
  {
   "cell_type": "code",
   "execution_count": 3,
   "id": "bea48b14",
   "metadata": {},
   "outputs": [],
   "source": [
    "# 直接加载npy文件为numpy格式\n",
    "all_data = np.load('./data/all_data.npy')\n",
    "# #直接加载npy文件为numpy格式,注意标签是面心值，不是a值\n",
    "all_label = np.load('./data/all_centerFace_label.npy')\n",
    "\n",
    "all_data = torch.tensor(all_data).float()\n",
    "all_label = torch.tensor(all_label).float()\n"
   ]
  },
  {
   "cell_type": "markdown",
   "id": "2cedeff1",
   "metadata": {},
   "source": [
    "## 3.构建模型"
   ]
  },
  {
   "cell_type": "code",
   "execution_count": 4,
   "id": "31a2c821",
   "metadata": {},
   "outputs": [],
   "source": [
    "\n",
    "class Net(nn.Module):\n",
    "    def __init__(self, num_output_channels, dropout, layers, hidden_units):\n",
    "        super(Net, self).__init__()\n",
    "\n",
    "        self.layers = nn.ModuleList()  # 用于存储每个层的列表\n",
    "\n",
    "        # 添加卷积层、激活函数、dropout层\n",
    "        for i in range(layers):\n",
    "            if i == 0:\n",
    "                self.layers.append(nn.Conv2d(2, hidden_units, kernel_size=3, stride=1, padding=1))\n",
    "            else:\n",
    "                self.layers.append(nn.Conv2d(hidden_units, hidden_units, kernel_size=3, stride=1, padding=1))\n",
    "            self.layers.append(nn.ReLU())\n",
    "            self.layers.append(nn.Dropout(p=dropout))\n",
    "\n",
    "        # 添加最后一层卷积层\n",
    "        self.conv_final = nn.Conv2d(hidden_units, num_output_channels, kernel_size=3, stride=1, padding=1)\n",
    "\n",
    "    def forward(self, x):\n",
    "        # 运行每个层的forward方法\n",
    "        for layer in self.layers:\n",
    "            x = layer(x)\n",
    "\n",
    "        x = self.conv_final(x)\n",
    "\n",
    "        return x\n"
   ]
  },
  {
   "cell_type": "markdown",
   "id": "962aa34b",
   "metadata": {},
   "source": [
    "## 4.模型训练与测试"
   ]
  },
  {
   "cell_type": "code",
   "execution_count": 5,
   "id": "4249cbe8",
   "metadata": {},
   "outputs": [
    {
     "name": "stdout",
     "output_type": "stream",
     "text": [
      "采用DataParallel加速，device_count个数为： 4\n",
      "begin to train!!!\n",
      "running_train_loss: 2618.938800573349\n",
      "running_test_loss: 624.4317009449005\n",
      "已完成第： 1 个epoch!\n",
      "running_train_loss: 2468.082384824753\n",
      "running_test_loss: 609.1573833227158\n",
      "已完成第： 2 个epoch!\n",
      "running_train_loss: 2430.1384714841843\n",
      "running_test_loss: 605.7278337478638\n",
      "已完成第： 3 个epoch!\n",
      "running_train_loss: 2414.4202716350555\n",
      "running_test_loss: 601.0386171340942\n",
      "已完成第： 4 个epoch!\n",
      "running_train_loss: 2404.039754509926\n",
      "running_test_loss: 598.4950227737427\n",
      "已完成第： 5 个epoch!\n",
      "running_train_loss: 2396.494523048401\n",
      "running_test_loss: 597.8364828824997\n",
      "已完成第： 6 个epoch!\n",
      "running_train_loss: 2389.4938637018204\n",
      "running_test_loss: 596.8641387224197\n",
      "已完成第： 7 个epoch!\n",
      "running_train_loss: 2382.8262991905212\n",
      "running_test_loss: 595.0936875343323\n",
      "已完成第： 8 个epoch!\n",
      "running_train_loss: 2376.9073815345764\n",
      "running_test_loss: 592.7681123018265\n",
      "已完成第： 9 个epoch!\n",
      "running_train_loss: 2373.350371360779\n",
      "running_test_loss: 593.6779624223709\n",
      "已完成第： 10 个epoch!\n",
      "running_train_loss: 2367.666209578514\n",
      "running_test_loss: 590.3350639343262\n",
      "已完成第： 11 个epoch!\n",
      "running_train_loss: 2363.9284621477127\n",
      "running_test_loss: 590.5604702234268\n",
      "已完成第： 12 个epoch!\n",
      "running_train_loss: 2360.3663754463196\n",
      "running_test_loss: 589.2349808216095\n",
      "已完成第： 13 个epoch!\n",
      "running_train_loss: 2357.5326611995697\n",
      "running_test_loss: 587.8040030002594\n",
      "已完成第： 14 个epoch!\n",
      "running_train_loss: 2353.3632212877274\n",
      "running_test_loss: 588.9032535552979\n",
      "已完成第： 15 个epoch!\n",
      "running_train_loss: 2350.6124943494797\n",
      "running_test_loss: 588.5373685359955\n",
      "已完成第： 16 个epoch!\n",
      "running_train_loss: 2348.0716763734818\n",
      "running_test_loss: 585.4601484537125\n",
      "已完成第： 17 个epoch!\n",
      "running_train_loss: 2345.2768473625183\n",
      "running_test_loss: 585.6182301044464\n",
      "已完成第： 18 个epoch!\n",
      "running_train_loss: 2341.916403532028\n",
      "running_test_loss: 586.5080560445786\n",
      "已完成第： 19 个epoch!\n",
      "running_train_loss: 2340.3588728904724\n",
      "running_test_loss: 583.3086361885071\n",
      "已完成第： 20 个epoch!\n",
      "模型训练和测试共用了: 1213.353055715561 秒！\n",
      "all of tasks Finished\n",
      "[2618.938800573349, 2468.082384824753, 2430.1384714841843, 2414.4202716350555, 2404.039754509926, 2396.494523048401, 2389.4938637018204, 2382.8262991905212, 2376.9073815345764, 2373.350371360779, 2367.666209578514, 2363.9284621477127, 2360.3663754463196, 2357.5326611995697, 2353.3632212877274, 2350.6124943494797, 2348.0716763734818, 2345.2768473625183, 2341.916403532028, 2340.3588728904724]\n",
      "[624.4317009449005, 609.1573833227158, 605.7278337478638, 601.0386171340942, 598.4950227737427, 597.8364828824997, 596.8641387224197, 595.0936875343323, 592.7681123018265, 593.6779624223709, 590.3350639343262, 590.5604702234268, 589.2349808216095, 587.8040030002594, 588.9032535552979, 588.5373685359955, 585.4601484537125, 585.6182301044464, 586.5080560445786, 583.3086361885071]\n"
     ]
    }
   ],
   "source": [
    "def train(num_output_channels):\n",
    "    \n",
    "    import time\n",
    "    start_time = time.time()\n",
    "\n",
    "    # 定义一个batch包含的样本数目\n",
    "    batch_size =128\n",
    "\n",
    "    # 生成数据集\n",
    "    x_train, x_test, y_train, y_test = train_test_split(all_data, all_label, test_size=0.2)\n",
    "\n",
    "    # 设置种子数\n",
    "    seed = 42\n",
    "    torch.manual_seed(seed)\n",
    "\n",
    "    # 划分数据集\n",
    "    trainset = torch.utils.data.TensorDataset(x_train, y_train)\n",
    "    trainloader = torch.utils.data.DataLoader(\n",
    "        trainset, batch_size=batch_size, shuffle=True)\n",
    "\n",
    "    # 划分数据集\n",
    "    testset = torch.utils.data.TensorDataset(x_test, y_test)\n",
    "    testloader = torch.utils.data.DataLoader(\n",
    "        testset, batch_size=batch_size, shuffle=True)\n",
    "\n",
    "\n",
    "    # 创建模型实例，并将模型移动到GPU设备上进行计算\n",
    "    net = Net(num_output_channels,0.001,6,32).to(device)\n",
    "    \n",
    "    # 加速训练：如果有多个GPU，则使用DataParallel模块\n",
    "    if torch.cuda.device_count() > 1:\n",
    "        net = nn.DataParallel(net)\n",
    "        print(\"采用DataParallel加速，device_count个数为：\",str(torch.cuda.device_count()))\n",
    "        \n",
    "    # 定义损失函数为均方误差\n",
    "    criterion = nn.MSELoss()  # 将预测值与真实标签之间的差值求平方和，再除以样本数n来得到平均损失值\n",
    "\n",
    "    # 定义优化器为Adam优化器,设置学习率为0.001\n",
    "    optimizer = optim.Adam(net.parameters(),lr = 0.001)\n",
    "\n",
    "    print('begin to train!!!')\n",
    "\n",
    "    # 训练模型\n",
    "    num_epochs = 20  # 训练轮数\n",
    "    train_loss = []\n",
    "    test_loss = []\n",
    "    for epoch in range(num_epochs):\n",
    "        running_train_loss = 0.0\n",
    "        for i, (inputs, labels) in enumerate(trainloader):\n",
    "            inputs, labels = inputs.to(device), labels.to(device)\n",
    "\n",
    "            # 将参数的梯度设为0\n",
    "            optimizer.zero_grad()\n",
    "\n",
    "            # 前向传播+后向传播+优化\n",
    "            outputs = net(inputs)\n",
    "            # inputs:torch.Size([10, 2, 64, 64])\n",
    "            # outputs:torch.Size([10, 4, 64, 64])\n",
    "            \"\"\"\n",
    "            criterion：表示所选的损失函数，这里选择的是MSE均方误差\n",
    "            outputs：模型在输入后得到的输出，它的形状是(batch_size, num_output_channels, height, width)\n",
    "            \"\"\"\n",
    "            loss = criterion(outputs, labels)  # labels   :torch.Size([10, 120, 64, 64])\n",
    "            loss.backward()  # 有了损失值后，就可以根据反向传播算法来更新模型参数，使得预测值更接近真实标签。\n",
    "            optimizer.step()\n",
    "\n",
    "            # 统计损失值\n",
    "            running_train_loss += loss.item()  # 在训练过程中，目标就是通过反向传播和优化算法尽可能地减小该损失值，提高模型的性能。\n",
    "            \n",
    "                        # 每20个batch打印一次平均损失值，这里batch-size=10,相当于每100个样本打印一次loss\n",
    "#             if i % 20 == 19:\n",
    "#                 print('[epoch:  %d, batch:%5d] train loss: %.3f' %\n",
    "#                       (epoch + 1, i + 1, running_train_loss))\n",
    "        print(\"running_train_loss:\",running_train_loss)        \n",
    "        train_loss.append(running_train_loss)\n",
    "            \n",
    "\n",
    "                \n",
    "        running_test_loss = 0.0\n",
    "        for i, (inputs, labels) in enumerate(testloader):\n",
    "            inputs, labels = inputs.to(device), labels.to(device)\n",
    "            # 前向传播(预测)+后向传播+优化\n",
    "            outputs = net(inputs)\n",
    "            # inputs:torch.Size([10, 2, 64, 64])\n",
    "            # outputs:torch.Size([10, 4, 64, 64])\n",
    "            \"\"\"\n",
    "            criterion：表示所选的损失函数，这里选择的是MSE均方误差\n",
    "            outputs：模型在输入后得到的输出，它的形状是(batch_size, num_output_channels, height, width)\n",
    "            \"\"\"\n",
    "            loss = criterion(outputs, labels)  # labels   :torch.Size([10, 120, 64, 64])\n",
    "\n",
    "            # 统计损失值\n",
    "            running_test_loss += loss.item()  # 在训练过程中，目标就是通过反向传播和优化算法尽可能地减小该损失值，提高模型的性能。\n",
    "            \n",
    "        print(\"running_test_loss:\",running_test_loss)        \n",
    "        test_loss.append(running_test_loss)\n",
    "        print(\"已完成第：\",str(epoch+1),\"个epoch!\")\n",
    "\n",
    "\n",
    "    end_time = time.time()\n",
    "    process_time = end_time - start_time\n",
    "    print(f\"模型训练和测试共用了: {process_time} 秒！\")#预处理data用了: 705.8258590698242 秒！\n",
    "    print('all of tasks Finished')\n",
    "    \n",
    "    # 保存整个模型\n",
    "    torch.save(net, './model/model_origin_20_01.pth')\n",
    "    \n",
    "    return train_loss,test_loss\n",
    "\n",
    "\n",
    "\"\"\"\n",
    "已完成第： 60 个epoch!\n",
    "模型训练和测试共用了: 2325.386168241501 秒！\n",
    "\"\"\"\n",
    "train_loss,test_loss  = train(num_output_channels=4)\n",
    "print(train_loss)\n",
    "print(test_loss)\n",
    "# 将数据写入文件，格式只能为二进制,二进制数据无法查看，想查看的话可以将其写入到txt里面或者用deebug查看\n",
    "np.save('./data/lossa/loss_model_20_01.npy', np.array([train_loss,test_loss]))"
   ]
  },
  {
   "cell_type": "code",
   "execution_count": 6,
   "id": "c5eef3da",
   "metadata": {},
   "outputs": [
    {
     "name": "stdout",
     "output_type": "stream",
     "text": [
      "torch.Size([192000, 2, 64, 64])\n",
      "torch.Size([192000, 4, 64, 64])\n"
     ]
    }
   ],
   "source": [
    "print(all_data.shape)\n",
    "print(all_label.shape)\n"
   ]
  },
  {
   "cell_type": "code",
   "execution_count": 7,
   "id": "1c768c45",
   "metadata": {},
   "outputs": [
    {
     "name": "stdout",
     "output_type": "stream",
     "text": [
      "[2618.93880057 2468.08238482 2430.13847148 2414.42027164 2404.03975451\n",
      " 2396.49452305 2389.4938637  2382.82629919 2376.90738153 2373.35037136\n",
      " 2367.66620958 2363.92846215 2360.36637545 2357.5326612  2353.36322129\n",
      " 2350.61249435 2348.07167637 2345.27684736 2341.91640353 2340.35887289]\n"
     ]
    }
   ],
   "source": [
    "train_loss,test_loss = np.load('./data/lossa/loss_model_20_01.npy')\n",
    "print(train_loss)"
   ]
  },
  {
   "cell_type": "markdown",
   "id": "f9e124e0",
   "metadata": {},
   "source": [
    "# 5.可视化loss"
   ]
  },
  {
   "cell_type": "code",
   "execution_count": 8,
   "id": "6ff7cdd2",
   "metadata": {},
   "outputs": [
    {
     "name": "stdout",
     "output_type": "stream",
     "text": [
      "[0.01704, 0.01607, 0.01582, 0.01572, 0.01565, 0.0156, 0.01555, 0.01551, 0.01547, 0.01545, 0.01541, 0.01538, 0.01536, 0.01535, 0.01532, 0.0153, 0.01529, 0.01527, 0.01524, 0.01523]\n"
     ]
    },
    {
     "data": {
      "image/png": "[encoded data removed]",
      "text/plain": [
       "<Figure size 640x480 with 1 Axes>"
      ]
     },
     "metadata": {},
     "output_type": "display_data"
    }
   ],
   "source": [
    "import matplotlib.pyplot as plt\n",
    "# 创建 x 轴数据，假设为 epoch 数\n",
    "epoch = np.arange(1, len(train_loss) + 1)\n",
    "\n",
    "train_loss = [round(int(a)/(all_data.shape[0]*0.8), 5) for a in train_loss]\n",
    "print(train_loss)\n",
    "# 绘制训练损失曲线\n",
    "plt.plot(epoch, train_loss, 'b', label='Train Loss')\n",
    "\n",
    "# 关闭科学计数法\n",
    "plt.gca().get_yaxis().get_major_formatter().set_scientific(False)\n",
    "\n",
    "# 设置y轴范围下限为0\n",
    "# plt.ylim(bottom=0)\n",
    "\n",
    "# 设置图表标题和轴标签\n",
    "plt.title('Train Loss')\n",
    "plt.xlabel('epoch')\n",
    "plt.ylabel('Loss')\n",
    "\n",
    "# 添加图例\n",
    "plt.legend()\n",
    "\n",
    "# 显示图表\n",
    "plt.show()"
   ]
  },
  {
   "cell_type": "code",
   "execution_count": 9,
   "id": "82ebd587",
   "metadata": {},
   "outputs": [
    {
     "name": "stdout",
     "output_type": "stream",
     "text": [
      "[624.43170094 609.15738332 605.72783375 601.03861713 598.49502277\n",
      " 597.83648288 596.86413872 595.09368753 592.7681123  593.67796242\n",
      " 590.33506393 590.56047022 589.23498082 587.804003   588.90325356\n",
      " 588.53736854 585.46014845 585.6182301  586.50805604 583.30863619]\n"
     ]
    },
    {
     "data": {
      "image/png": "[encoded data removed]",
      "text/plain": [
       "<Figure size 640x480 with 1 Axes>"
      ]
     },
     "metadata": {},
     "output_type": "display_data"
    }
   ],
   "source": [
    "# 创建 x 轴数据，假设为 epoch 数\n",
    "epoch = np.arange(1, len(test_loss) + 1)\n",
    "print(test_loss)\n",
    "test_loss = [round(int(a)/(all_data.shape[0]*0.2), 5) for a in test_loss]\n",
    "\n",
    "\n",
    "# 绘制测试损失曲线\n",
    "plt.plot(epoch, test_loss, 'r', label='Test Loss')\n",
    "\n",
    "# 设置图表标题和轴标签\n",
    "plt.title('Test Loss')\n",
    "plt.xlabel('epoch')\n",
    "plt.ylabel('Loss')\n",
    "\n",
    "# 添加图例\n",
    "plt.legend()\n",
    "\n",
    "# 显示图表\n",
    "plt.show()"
   ]
  },
  {
   "cell_type": "code",
   "execution_count": 10,
   "id": "39bec1e7",
   "metadata": {
    "scrolled": true
   },
   "outputs": [],
   "source": [
    "# from torchsummary import summary\n",
    "# # 将模型移动到适当的设备\n",
    "# model = model.to(device)\n",
    "\n",
    "# # 打印模型的概要信息\n",
    "# summary(model,input_size=(2, 64, 64))"
   ]
  },
  {
   "cell_type": "markdown",
   "id": "82ce42f0",
   "metadata": {},
   "source": [
    "## 6.预测"
   ]
  },
  {
   "cell_type": "code",
   "execution_count": 11,
   "id": "50c8b821",
   "metadata": {},
   "outputs": [],
   "source": [
    "device = torch.device('cuda' if torch.cuda.is_available() else 'cpu')\n",
    "\n",
    "# 加载模型\n",
    "model = torch.load('./model/model_origin_300_01.pth', map_location=device)# from torchsummary import summary\n",
    "# # 将模型移动到适当的设备\n",
    "\n",
    "model = model.to(device)\n"
   ]
  },
  {
   "cell_type": "code",
   "execution_count": 12,
   "id": "546182fa",
   "metadata": {},
   "outputs": [
    {
     "name": "stdout",
     "output_type": "stream",
     "text": [
      "torch.Size([64, 64, 2])\n",
      "torch.Size([1, 2, 64, 64])\n"
     ]
    },
    {
     "ename": "AttributeError",
     "evalue": "Caught AttributeError in replica 0 on device 0.\nOriginal Traceback (most recent call last):\n  File \"/home/user/.local/lib/python3.8/site-packages/torch/nn/parallel/parallel_apply.py\", line 61, in _worker\n    output = module(*input, **kwargs)\n  File \"/home/user/.local/lib/python3.8/site-packages/torch/nn/modules/module.py\", line 1051, in _call_impl\n    return forward_call(*input, **kwargs)\n  File \"/tmp/ipykernel_1706455/52758376.py\", line 21, in forward\n    for layer in self.layers:\n  File \"/home/user/.local/lib/python3.8/site-packages/torch/nn/modules/module.py\", line 1130, in __getattr__\n    raise AttributeError(\"'{}' object has no attribute '{}'\".format(\nAttributeError: 'Net' object has no attribute 'layers'\n",
     "output_type": "error",
     "traceback": [
      "\u001b[0;31m---------------------------------------------------------------------------\u001b[0m",
      "\u001b[0;31mAttributeError\u001b[0m                            Traceback (most recent call last)",
      "Cell \u001b[0;32mIn[12], line 21\u001b[0m\n\u001b[1;32m     18\u001b[0m input_tensor \u001b[38;5;241m=\u001b[39m input_data\u001b[38;5;241m.\u001b[39mto(device)\n\u001b[1;32m     20\u001b[0m \u001b[38;5;28;01mwith\u001b[39;00m torch\u001b[38;5;241m.\u001b[39mno_grad():\n\u001b[0;32m---> 21\u001b[0m     output \u001b[38;5;241m=\u001b[39m \u001b[43mmodel\u001b[49m\u001b[43m(\u001b[49m\u001b[43minput_tensor\u001b[49m\u001b[43m)\u001b[49m\u001b[38;5;66;03m##如果报错的话需要把网络的设计加上，里面涉及model(input)\u001b[39;00m\n\u001b[1;32m     23\u001b[0m \u001b[38;5;66;03m# 打印预测结果\u001b[39;00m\n\u001b[1;32m     24\u001b[0m \u001b[38;5;28mprint\u001b[39m(output)\n",
      "File \u001b[0;32m~/.local/lib/python3.8/site-packages/torch/nn/modules/module.py:1051\u001b[0m, in \u001b[0;36mModule._call_impl\u001b[0;34m(self, *input, **kwargs)\u001b[0m\n\u001b[1;32m   1047\u001b[0m \u001b[38;5;66;03m# If we don't have any hooks, we want to skip the rest of the logic in\u001b[39;00m\n\u001b[1;32m   1048\u001b[0m \u001b[38;5;66;03m# this function, and just call forward.\u001b[39;00m\n\u001b[1;32m   1049\u001b[0m \u001b[38;5;28;01mif\u001b[39;00m \u001b[38;5;129;01mnot\u001b[39;00m (\u001b[38;5;28mself\u001b[39m\u001b[38;5;241m.\u001b[39m_backward_hooks \u001b[38;5;129;01mor\u001b[39;00m \u001b[38;5;28mself\u001b[39m\u001b[38;5;241m.\u001b[39m_forward_hooks \u001b[38;5;129;01mor\u001b[39;00m \u001b[38;5;28mself\u001b[39m\u001b[38;5;241m.\u001b[39m_forward_pre_hooks \u001b[38;5;129;01mor\u001b[39;00m _global_backward_hooks\n\u001b[1;32m   1050\u001b[0m         \u001b[38;5;129;01mor\u001b[39;00m _global_forward_hooks \u001b[38;5;129;01mor\u001b[39;00m _global_forward_pre_hooks):\n\u001b[0;32m-> 1051\u001b[0m     \u001b[38;5;28;01mreturn\u001b[39;00m \u001b[43mforward_call\u001b[49m\u001b[43m(\u001b[49m\u001b[38;5;241;43m*\u001b[39;49m\u001b[38;5;28;43minput\u001b[39;49m\u001b[43m,\u001b[49m\u001b[43m \u001b[49m\u001b[38;5;241;43m*\u001b[39;49m\u001b[38;5;241;43m*\u001b[39;49m\u001b[43mkwargs\u001b[49m\u001b[43m)\u001b[49m\n\u001b[1;32m   1052\u001b[0m \u001b[38;5;66;03m# Do not call functions when jit is used\u001b[39;00m\n\u001b[1;32m   1053\u001b[0m full_backward_hooks, non_full_backward_hooks \u001b[38;5;241m=\u001b[39m [], []\n",
      "File \u001b[0;32m~/.local/lib/python3.8/site-packages/torch/nn/parallel/data_parallel.py:168\u001b[0m, in \u001b[0;36mDataParallel.forward\u001b[0;34m(self, *inputs, **kwargs)\u001b[0m\n\u001b[1;32m    166\u001b[0m     \u001b[38;5;28;01mreturn\u001b[39;00m \u001b[38;5;28mself\u001b[39m\u001b[38;5;241m.\u001b[39mmodule(\u001b[38;5;241m*\u001b[39minputs[\u001b[38;5;241m0\u001b[39m], \u001b[38;5;241m*\u001b[39m\u001b[38;5;241m*\u001b[39mkwargs[\u001b[38;5;241m0\u001b[39m])\n\u001b[1;32m    167\u001b[0m replicas \u001b[38;5;241m=\u001b[39m \u001b[38;5;28mself\u001b[39m\u001b[38;5;241m.\u001b[39mreplicate(\u001b[38;5;28mself\u001b[39m\u001b[38;5;241m.\u001b[39mmodule, \u001b[38;5;28mself\u001b[39m\u001b[38;5;241m.\u001b[39mdevice_ids[:\u001b[38;5;28mlen\u001b[39m(inputs)])\n\u001b[0;32m--> 168\u001b[0m outputs \u001b[38;5;241m=\u001b[39m \u001b[38;5;28;43mself\u001b[39;49m\u001b[38;5;241;43m.\u001b[39;49m\u001b[43mparallel_apply\u001b[49m\u001b[43m(\u001b[49m\u001b[43mreplicas\u001b[49m\u001b[43m,\u001b[49m\u001b[43m \u001b[49m\u001b[43minputs\u001b[49m\u001b[43m,\u001b[49m\u001b[43m \u001b[49m\u001b[43mkwargs\u001b[49m\u001b[43m)\u001b[49m\n\u001b[1;32m    169\u001b[0m \u001b[38;5;28;01mreturn\u001b[39;00m \u001b[38;5;28mself\u001b[39m\u001b[38;5;241m.\u001b[39mgather(outputs, \u001b[38;5;28mself\u001b[39m\u001b[38;5;241m.\u001b[39moutput_device)\n",
      "File \u001b[0;32m~/.local/lib/python3.8/site-packages/torch/nn/parallel/data_parallel.py:178\u001b[0m, in \u001b[0;36mDataParallel.parallel_apply\u001b[0;34m(self, replicas, inputs, kwargs)\u001b[0m\n\u001b[1;32m    177\u001b[0m \u001b[38;5;28;01mdef\u001b[39;00m \u001b[38;5;21mparallel_apply\u001b[39m(\u001b[38;5;28mself\u001b[39m, replicas, inputs, kwargs):\n\u001b[0;32m--> 178\u001b[0m     \u001b[38;5;28;01mreturn\u001b[39;00m \u001b[43mparallel_apply\u001b[49m\u001b[43m(\u001b[49m\u001b[43mreplicas\u001b[49m\u001b[43m,\u001b[49m\u001b[43m \u001b[49m\u001b[43minputs\u001b[49m\u001b[43m,\u001b[49m\u001b[43m \u001b[49m\u001b[43mkwargs\u001b[49m\u001b[43m,\u001b[49m\u001b[43m \u001b[49m\u001b[38;5;28;43mself\u001b[39;49m\u001b[38;5;241;43m.\u001b[39;49m\u001b[43mdevice_ids\u001b[49m\u001b[43m[\u001b[49m\u001b[43m:\u001b[49m\u001b[38;5;28;43mlen\u001b[39;49m\u001b[43m(\u001b[49m\u001b[43mreplicas\u001b[49m\u001b[43m)\u001b[49m\u001b[43m]\u001b[49m\u001b[43m)\u001b[49m\n",
      "File \u001b[0;32m~/.local/lib/python3.8/site-packages/torch/nn/parallel/parallel_apply.py:86\u001b[0m, in \u001b[0;36mparallel_apply\u001b[0;34m(modules, inputs, kwargs_tup, devices)\u001b[0m\n\u001b[1;32m     84\u001b[0m     output \u001b[38;5;241m=\u001b[39m results[i]\n\u001b[1;32m     85\u001b[0m     \u001b[38;5;28;01mif\u001b[39;00m \u001b[38;5;28misinstance\u001b[39m(output, ExceptionWrapper):\n\u001b[0;32m---> 86\u001b[0m         \u001b[43moutput\u001b[49m\u001b[38;5;241;43m.\u001b[39;49m\u001b[43mreraise\u001b[49m\u001b[43m(\u001b[49m\u001b[43m)\u001b[49m\n\u001b[1;32m     87\u001b[0m     outputs\u001b[38;5;241m.\u001b[39mappend(output)\n\u001b[1;32m     88\u001b[0m \u001b[38;5;28;01mreturn\u001b[39;00m outputs\n",
      "File \u001b[0;32m~/.local/lib/python3.8/site-packages/torch/_utils.py:425\u001b[0m, in \u001b[0;36mExceptionWrapper.reraise\u001b[0;34m(self)\u001b[0m\n\u001b[1;32m    421\u001b[0m \u001b[38;5;28;01melif\u001b[39;00m \u001b[38;5;28mgetattr\u001b[39m(\u001b[38;5;28mself\u001b[39m\u001b[38;5;241m.\u001b[39mexc_type, \u001b[38;5;124m\"\u001b[39m\u001b[38;5;124mmessage\u001b[39m\u001b[38;5;124m\"\u001b[39m, \u001b[38;5;28;01mNone\u001b[39;00m):\n\u001b[1;32m    422\u001b[0m     \u001b[38;5;66;03m# Some exceptions have first argument as non-str but explicitly\u001b[39;00m\n\u001b[1;32m    423\u001b[0m     \u001b[38;5;66;03m# have message field\u001b[39;00m\n\u001b[1;32m    424\u001b[0m     \u001b[38;5;28;01mraise\u001b[39;00m \u001b[38;5;28mself\u001b[39m\u001b[38;5;241m.\u001b[39mexc_type(message\u001b[38;5;241m=\u001b[39mmsg)\n\u001b[0;32m--> 425\u001b[0m \u001b[38;5;28;01mraise\u001b[39;00m \u001b[38;5;28mself\u001b[39m\u001b[38;5;241m.\u001b[39mexc_type(msg)\n",
      "\u001b[0;31mAttributeError\u001b[0m: Caught AttributeError in replica 0 on device 0.\nOriginal Traceback (most recent call last):\n  File \"/home/user/.local/lib/python3.8/site-packages/torch/nn/parallel/parallel_apply.py\", line 61, in _worker\n    output = module(*input, **kwargs)\n  File \"/home/user/.local/lib/python3.8/site-packages/torch/nn/modules/module.py\", line 1051, in _call_impl\n    return forward_call(*input, **kwargs)\n  File \"/tmp/ipykernel_1706455/52758376.py\", line 21, in forward\n    for layer in self.layers:\n  File \"/home/user/.local/lib/python3.8/site-packages/torch/nn/modules/module.py\", line 1130, in __getattr__\n    raise AttributeError(\"'{}' object has no attribute '{}'\".format(\nAttributeError: 'Net' object has no attribute 'layers'\n"
     ]
    }
   ],
   "source": [
    "# 设置模型为评估模式\n",
    "model.eval()\n",
    "\n",
    "# 输入数据进行预测\n",
    "input_data =all_data[-10]  # 你的输入数据\n",
    "\n",
    "\n",
    "#调整输入input的维度顺序,作为E，用于下面change_Label_to_a中(E-A)/(B-A)得到a值\n",
    "matrix_64 = input_data.cpu()\n",
    "matrix_64 = matrix_64.permute(1,2,0)  \n",
    "print(matrix_64.shape)\n",
    "\n",
    "\n",
    "# 转换为四维\n",
    "input_data = input_data.unsqueeze(0)#用实际数据，数据格式为(1,2, 64, 64)，不能为2x64x64\n",
    "# input_data = torch.randn(1,2, 64, 64)\n",
    "print(input_data.shape)\n",
    "input_tensor = input_data.to(device)\n",
    "\n",
    "with torch.no_grad():\n",
    "    output = model(input_tensor)##如果报错的话需要把网络的设计加上，里面涉及model(input)\n",
    "\n",
    "# 打印预测结果\n",
    "print(output)"
   ]
  },
  {
   "cell_type": "markdown",
   "id": "830e32fe",
   "metadata": {},
   "source": [
    "# 8.转换格式(label转为最终的weights)"
   ]
  },
  {
   "cell_type": "code",
   "execution_count": null,
   "id": "32d94569",
   "metadata": {},
   "outputs": [],
   "source": [
    "#将label面心值转为a值\n",
    "def change_Label_to_a(all_vertical_edge_centers,all_horizontal_edge_centers):\n",
    "    a_vertical = np.zeros((64, 65, 2))\n",
    "    # a_vertical = np.random((64, 65, 2))\n",
    "    a_horizontal = np.zeros((64, 65, 2))\n",
    "    # a_horizontal = np.random.random((64, 65, 2))\n",
    "\n",
    "\n",
    "    # 21. 求a:   横着的边，分两种情况，边缘（对称的）和非边缘的边.这里matrix_64要行列互换，因为横着时面心值是一列一列求得，竖着时是一行一行求的。\n",
    "    for i in range(64):\n",
    "        for j in range(65):\n",
    "            if j == 0 or j == 64:\n",
    "                # a_horizontal[i, j] = (all_horizontal_edge_centers[i, 0] - matrix_64[i, 0]) / (matrix_64[i, 63] - matrix_64[i, 0])#换之前\n",
    "                a_horizontal[i, j] = (all_horizontal_edge_centers[i, 0] - matrix_64[0, i]) / (\n",
    "                    matrix_64[63, i] - matrix_64[0, i])\n",
    "            else:\n",
    "                # aA=(1-a)B=E   a = (E-B)/(A-B) 其中：A为matrix_64[i,j]，B为matrix_64[i,j+1]\n",
    "                # a_horizontal[i, j] = (all_horizontal_edge_centers[i, j] - matrix_64[i, j]) / (matrix_64[i, j-1] - matrix_64[i, j])\n",
    "                a_horizontal[i, j] = (all_horizontal_edge_centers[i, j] - matrix_64[j, i]) / (\n",
    "                    matrix_64[j - 1, i] - matrix_64[j, i])\n",
    "\n",
    "    # 22. 求a:   竖着的边，分两种情况，边缘（对称的）和非边缘的边\n",
    "    for i in range(64):\n",
    "        for j in range(65):\n",
    "            if j == 0 or j == 64:\n",
    "                a_vertical[i, j] = (all_vertical_edge_centers[i, 0] - matrix_64[i, 0]) / (\n",
    "                    matrix_64[i, 63] - matrix_64[i, 0])\n",
    "            else:\n",
    "                # aA=(1-a)B=E   a = (E-B)/(A-B) 其中：A为matrix_64[i,j]，B为matrix_64[i,j+1]\n",
    "                # 2.错误matrix_64[i, j-1]) / (改成matrix_64[i, j]) / (\n",
    "                a_vertical[i, j] = (all_vertical_edge_centers[i, j] - matrix_64[i, j]) / (\n",
    "                    matrix_64[i, j - 1] - matrix_64[i, j])\n",
    "\n",
    "    # # 若最终a对应的矩阵里面出现无穷，则将其替换为0.5.解决了分母为0的问题\n",
    "    # a_vertical[np.isinf(a_vertical)] = 0.5\n",
    "    # a_horizontal[np.isinf(a_horizontal)] = 0.5\n",
    "    #这里64x65x2截成64x64x2,因为边框对称时值相同\n",
    "    \n",
    "    a_vertical = torch.tensor(a_vertical[:,:64,:])\n",
    "    a_horizontal = torch.tensor(a_horizontal[:,:64,:])\n",
    "\n",
    "    print(a_vertical.shape)\n",
    "    print(a_horizontal.shape)\n",
    "    return  a_vertical,a_horizontal"
   ]
  },
  {
   "cell_type": "code",
   "execution_count": null,
   "id": "0cc96529",
   "metadata": {},
   "outputs": [],
   "source": [
    "#返回一个列表，里面嵌套两个子列表，第一个子列表存放的是内部的a值，第二个子列表存放的是边框的a值，\n",
    "#且顺序为上（左到右），下（左到右），左（下到上），右（下到上）\n",
    "def conversion_format(output):\n",
    "    # 调整output的维度顺序\n",
    "    output = output.permute(0,2,3,1)  \n",
    "    print(output.shape)\n",
    "    output = output[0]\n",
    "    print(output.shape)\n",
    "    # print(output)\n",
    "\n",
    "    #将输出output拆成两个面心值\n",
    "    all_vertical_edge_centers = output[:, :, 0:2].cpu()\n",
    "    all_horizontal_edge_centers = output[:, :, 2:4].cpu()\n",
    "    print(all_vertical_edge_centers.shape)\n",
    "    print(all_horizontal_edge_centers.shape)\n",
    "\n",
    "    \n",
    "    a_vertical,a_horizontal  = change_Label_to_a(all_vertical_edge_centers,all_horizontal_edge_centers)    \n",
    "    \n",
    "    # 将前两个元素相加除以二得到一个元素(x+y/)2\n",
    "    avg_vertical = (a_vertical[:, :, 0] + a_vertical[:, :, 1]) / 2\n",
    "    # 将后两个元素相加除以二得到另一个元素\n",
    "    avg_horizontal = (a_horizontal[:, :, 0] + a_horizontal[:, :, 1]) / 2\n",
    "\n",
    "    # 重新组合成新的形状为(64, 64, 2)的张量\n",
    "    new_avg_a_output = torch.stack([avg_vertical, avg_horizontal], dim=2)\n",
    "    # 打印转换后的数据形状\n",
    "    print(new_avg_a_output.shape)\n",
    "\n",
    "    #返回两个求完平均的面心值,包括两个64*64矩阵，矩阵是求完平均后的a值，一个竖着的，一个横着的\n",
    "    vertical_1d = new_avg_a_output[:, :, 0]\n",
    "    horizontal_1d = new_avg_a_output[:, :,1]\n",
    "    print(vertical_1d.shape)\n",
    "    print(horizontal_1d.shape)\n",
    "    \n",
    "    \n",
    "    border = []#存所有边框，四个边框\n",
    "    left_border=[]#存左边框\n",
    "    bottom_border = []#存下边框\n",
    "    inner = []#存内部的面心值\n",
    "\n",
    "    #下面将2个64x64面心值变换格式，返回指定的格式result\n",
    "    for i in range(len(vertical_1d)): #两个for循环等价于for i in range(64):\n",
    "        for j in range(len(vertical_1d[i])):\n",
    "            if j ==0:#j=0添加边框\n",
    "                #添加左边框\n",
    "                left_border.append(vertical_1d[i][0])\n",
    "                #添加下边框\n",
    "                bottom_border.append(horizontal_1d[i][0])\n",
    "            else: \n",
    "                if i !=  63:#当竖着的最后一行时，上面没有对应的横着的\n",
    "                    inner.append(vertical_1d[i][j])#竖着的\n",
    "    #                 print(\"{j-1},{i+1}\",j-1,i+1)\n",
    "                    inner.append(horizontal_1d[j-1][i+1])   #再横着的   \n",
    "                    if j == 63:#如果j=63的话，还需要再加入最后一列的横着的边\n",
    "                        inner.append(horizontal_1d[63][i+1])#当i=63,横着的加最后一列 \n",
    "                else:#if i ==63 :\n",
    "                    inner.append(vertical_1d[63][j])#当i=63,inner最后添加竖着的一行竖线\n",
    "\n",
    "    inner = [tensor.cpu().numpy().tolist() for tensor in inner]#将一维列表里面的tensor元素转为numpy格式，并返回cpu版本\n",
    "    # print(inner)\n",
    "    four_border = [bottom_border,bottom_border,left_border,left_border]#顺序是上（左到右），下（左到右），左（下到上），右（下到上）\n",
    "    border = [item.numpy().tolist() for sublist in four_border for item in sublist]\n",
    "    result = [inner,border]\n",
    "    print(len(result))\n",
    "    return result\n",
    "\n"
   ]
  },
  {
   "cell_type": "code",
   "execution_count": null,
   "id": "5227f154",
   "metadata": {},
   "outputs": [],
   "source": [
    "result  = conversion_format(output)"
   ]
  },
  {
   "cell_type": "code",
   "execution_count": null,
   "id": "e4fa4c23",
   "metadata": {},
   "outputs": [],
   "source": [
    "print(len(result[0]))\n",
    "print(len(result[1]))\n",
    "print(8064+64*2)"
   ]
  },
  {
   "cell_type": "code",
   "execution_count": null,
   "id": "6b64363b",
   "metadata": {},
   "outputs": [],
   "source": [
    "print(result)"
   ]
  },
  {
   "cell_type": "code",
   "execution_count": null,
   "id": "f4ce8e7a",
   "metadata": {},
   "outputs": [],
   "source": [
    "count = sum(1 for num in result[0] if 0 < num < 1)\n",
    "print(count)\n",
    "print(count/len(result[0]))"
   ]
  },
  {
   "cell_type": "code",
   "execution_count": null,
   "id": "42b1d97b",
   "metadata": {},
   "outputs": [],
   "source": []
  },
  {
   "cell_type": "code",
   "execution_count": null,
   "id": "2d9b6dcf",
   "metadata": {},
   "outputs": [],
   "source": []
  },
  {
   "cell_type": "code",
   "execution_count": null,
   "id": "2b244dce",
   "metadata": {},
   "outputs": [],
   "source": []
  },
  {
   "cell_type": "code",
   "execution_count": null,
   "id": "e9397acc",
   "metadata": {},
   "outputs": [],
   "source": []
  }
 ],
 "metadata": {
  "kernelspec": {
   "display_name": "Python 3 (ipykernel)",
   "language": "python",
   "name": "python3"
  },
  "language_info": {
   "codemirror_mode": {
    "name": "ipython",
    "version": 3
   },
   "file_extension": ".py",
   "mimetype": "text/x-python",
   "name": "python",
   "nbconvert_exporter": "python",
   "pygments_lexer": "ipython3",
   "version": "3.8.10"
  }
 },
 "nbformat": 4,
 "nbformat_minor": 5
}
