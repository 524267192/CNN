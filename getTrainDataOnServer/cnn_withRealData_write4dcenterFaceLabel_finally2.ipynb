{
 "cells": [
  {
   "cell_type": "markdown",
   "id": "4b90d8e1",
   "metadata": {},
   "source": [
    "## 1.导入包"
   ]
  },
  {
   "cell_type": "code",
   "execution_count": 1,
   "id": "aef89e7c",
   "metadata": {},
   "outputs": [
    {
     "data": {
      "text/plain": [
       "'\\n1.功能：\\n通过加载data_64x64x2.txt文件和label_a_2x64x64x2.txt文件，\\n将数据预处理将文本文件转换为模型要求的格式，然后继续训练和预测。\\n定义了一个6层卷积神经网络模型。每个卷积层后面跟着一个 ReLU 激活函数。第七层只有卷积，没有relu。\\n输入数据n*64*64*2,这里的一个样本64*64可以看成一个图片格式（在此次任务中是速度，两者类似）\\n输出是n*64*64*4\\n'"
      ]
     },
     "execution_count": 1,
     "metadata": {},
     "output_type": "execute_result"
    }
   ],
   "source": [
    "import torch\n",
    "import torch.nn as nn\n",
    "import torch.optim as optim\n",
    "import re\n",
    "import numpy as np\n",
    "from sklearn.model_selection import train_test_split\n",
    "import time\n",
    "\n",
    "np.set_printoptions(threshold=np.inf)\n",
    "device = torch.device(\"cuda\" if torch.cuda.is_available() else \"cpu\")\n",
    "\n",
    "\"\"\"\n",
    "1.功能：\n",
    "通过加载data_64x64x2.txt文件和label_a_2x64x64x2.txt文件，\n",
    "将数据预处理将文本文件转换为模型要求的格式，然后继续训练和预测。\n",
    "定义了一个6层卷积神经网络模型。每个卷积层后面跟着一个 ReLU 激活函数。第七层只有卷积，没有relu。\n",
    "输入数据n*64*64*2,这里的一个样本64*64可以看成一个图片格式（在此次任务中是速度，两者类似）\n",
    "输出是n*64*64*4\n",
    "\"\"\"\n"
   ]
  },
  {
   "cell_type": "markdown",
   "id": "1def8264",
   "metadata": {},
   "source": [
    "## 2. 数据预处理"
   ]
  },
  {
   "cell_type": "code",
   "execution_count": 5,
   "id": "8caa3ac9",
   "metadata": {},
   "outputs": [
    {
     "name": "stdout",
     "output_type": "stream",
     "text": [
      "Start data preprocessing……\n",
      "所有样本的标签处理完毕！\n",
      "all_label.shape: torch.Size([192000, 4, 64, 64])\n"
     ]
    }
   ],
   "source": [
    "## 从文件中读取数据并转换为三维格式\n",
    "print(\"Start data preprocessing……\")\n",
    "\n",
    "\n",
    "\"\"\"\n",
    "从文件中读取数据并转换为三维列表格式\n",
    "将6*2*64*64*2的数据转为12*64*64*2,再将其转为6*64*64*4\n",
    "其中4是前面两个是竖着的a值，后面两个是横着的a值，用于作为标签\n",
    "\"\"\"\n",
    "def get_label():\n",
    "    input_file = 'data/label_centerFace_2x64x64x2.txt'\n",
    "    all_label = []  # 存放所有数据\n",
    "    single_file_label = []  # 存放一个文件的数据\n",
    "    i = 0  # 计数，计每个文件的行个数，每4096行保存一次\n",
    "    with open(input_file, 'r') as f:\n",
    "        lines = f.readlines()\n",
    "\n",
    "        # 匹配浮点数和科学计数法表示的浮点数的正则表达式\n",
    "        pattern = r\"[-+]?[0-9]*\\.?[0-9]+(?:[eE][-+]?[0-9]+)?\"\n",
    "\n",
    "        matches = re.findall(pattern, str(lines))\n",
    "\n",
    "        result = [float(match) for match in matches]\n",
    "\n",
    "        for a in range(len(result)):#716333056\n",
    "            if a == 0 or a % (4096 * 2) != 0:\n",
    "                single_file_label.append(result[a])\n",
    "\n",
    "            else:\n",
    "                # print(len(single_file_label))#8192\n",
    "                single_file_label = np.array(single_file_label).reshape(64, 64, 2)\n",
    "                all_label.append(single_file_label)\n",
    "                single_file_label = []\n",
    "                single_file_label.append(result[a])\n",
    "        single_file_label = np.array(single_file_label).reshape(64, 64, 2)\n",
    "        all_label.append(single_file_label)\n",
    "        all_label = np.array(all_label)\n",
    "\n",
    "        two_label = []\n",
    "        all_4d_label = []\n",
    "        num = 0\n",
    "        for i in all_label:\n",
    "            num += 1\n",
    "            two_label.append(i)\n",
    "            if num % 2 == 0:\n",
    "                two_label = np.array(two_label)\n",
    "                two_label = torch.tensor(two_label)\n",
    "                two_label = two_label.permute(1, 2, 3, 0)\n",
    "                two_label = torch.reshape(two_label, (two_label.size(0), two_label.size(1), -1))\n",
    "\n",
    "                # 调整第三维元素的列的顺序\n",
    "                column_indices = [0, 2, 1, 3]\n",
    "                two_label = two_label[:, :, column_indices]\n",
    "\n",
    "                all_4d_label.append(two_label)\n",
    "                two_label = []\n",
    "        all_4d_label = np.array([i.numpy() for i in all_4d_label])\n",
    "        \n",
    "        print(\"所有样本的标签处理完毕！\")\n",
    "        return all_4d_label\n",
    "    \n",
    "\n",
    "\n",
    "all_label = get_label()  # 获取所有标签\n",
    "\n",
    "\n",
    "all_label = torch.tensor(all_label).float()\n",
    "\n",
    "all_label = all_label.permute(0, 3, 1, 2)  # 调整维度顺序，将第4维插入到第2维\n",
    "\"\"\"\n",
    "维度转换：\n",
    "(6, 64, 64, 2)\n",
    "(6, 64, 64, 4)\n",
    "转为\n",
    "torch.Size([6, 2, 64, 64])\n",
    "torch.Size([6, 4, 64, 64])\n",
    "\"\"\"\n",
    "\n",
    "print(\"all_label.shape:\",all_label.shape)\n",
    "# all_data.shape: torch.Size([192000, 2, 64, 64])\n",
    "# all_label.shape: torch.Size([192000, 4, 64, 64])\n"
   ]
  },
  {
   "cell_type": "markdown",
   "id": "921ddffd",
   "metadata": {},
   "source": [
    "## 3.保存数据"
   ]
  },
  {
   "cell_type": "code",
   "execution_count": 6,
   "id": "debfb030",
   "metadata": {},
   "outputs": [
    {
     "name": "stdout",
     "output_type": "stream",
     "text": [
      "all data has been saved and the format is numpy!\n"
     ]
    }
   ],
   "source": [
    "# 将数据写入文件，格式只能为二进制\n",
    "# # 将数据写入文件，格式只能为二进制\n",
    "np.save('./data/all_centerFace_label.npy', all_label)\n",
    "# #直接加载npy文件为numpy格式\n",
    "# all_label = np.load('./data/all_label.npy')\n",
    "print(\"all data has been saved and the format is numpy!\")"
   ]
  },
  {
   "cell_type": "code",
   "execution_count": 7,
   "id": "acb4614d",
   "metadata": {},
   "outputs": [],
   "source": [
    "# 直接加载npy文件为numpy格式\n",
    "#当数据预处理的代码运行完保存处理后的数据后，可直接运行以下代码加载数据\n",
    "# all_data = np.load('./data/all_data.npy')\n",
    "all_label = np.load('./data/all_centerFace_label.npy')\n",
    "\n",
    "# all_data = torch.tensor(all_data).float()\n",
    "# all_label = torch.tensor(all_label).float()"
   ]
  },
  {
   "cell_type": "code",
   "execution_count": null,
   "id": "99e9db9a",
   "metadata": {},
   "outputs": [],
   "source": []
  }
 ],
 "metadata": {
  "kernelspec": {
   "display_name": "Python 3 (ipykernel)",
   "language": "python",
   "name": "python3"
  },
  "language_info": {
   "codemirror_mode": {
    "name": "ipython",
    "version": 3
   },
   "file_extension": ".py",
   "mimetype": "text/x-python",
   "name": "python",
   "nbconvert_exporter": "python",
   "pygments_lexer": "ipython3",
   "version": "3.8.10"
  }
 },
 "nbformat": 4,
 "nbformat_minor": 5
}
