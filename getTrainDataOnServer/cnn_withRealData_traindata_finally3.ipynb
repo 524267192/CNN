{
 "cells": [
  {
   "cell_type": "markdown",
   "id": "86939b8c",
   "metadata": {},
   "source": [
    "## 1.导入包"
   ]
  },
  {
   "cell_type": "code",
   "execution_count": 1,
   "id": "9ad074a0",
   "metadata": {},
   "outputs": [],
   "source": [
    "import torch\n",
    "import torch.nn as nn\n",
    "import torch.optim as optim\n",
    "import re\n",
    "import numpy as np\n",
    "from sklearn.model_selection import train_test_split\n",
    "import matplotlib.pyplot as plt\n",
    "\n",
    "np.set_printoptions(threshold=np.inf)\n",
    "device = torch.device(\"cuda\" if torch.cuda.is_available() else \"cpu\")\n"
   ]
  },
  {
   "cell_type": "code",
   "execution_count": 2,
   "id": "3b0d4fec",
   "metadata": {},
   "outputs": [
    {
     "data": {
      "text/plain": [
       "'\\n网格搜索(Grid Search)和Optuna，找到模型的最佳超参数组合\\n网格搜索适用于超参数空间较小、离散且较少的情况，而Optuna适用于超参数空间较大、连续或离散且较多的情况\\n下面要做的事情：\\n1.换新的面心值标签，现在数据过拟合，训练集下降但是测试集上升或者波动\\n2.考虑正则化或者假如droput层来防止过拟合\\n3.考虑数据预处理中采用数据标准化，让数据均匀分布\\n4.用不用考虑损失函数，学习率,epoch,adam优化器及其四个参数，的修改，模型用不用再添加几层让模型变复杂些（batch-size越大，训练越快，不影响准确率）\\n5.早停法（Early Stopping）：在训练过程中监控验证集上的性能，一旦性能停止改善，在一定epoch后停止训练，并保存模型，以防止过拟合。可以参照外国那案例\\n6.数据集的比例，不一定4：1，也可以95：5，当数据集足够大时，这样可以增加训练集数量\\n'"
      ]
     },
     "execution_count": 2,
     "metadata": {},
     "output_type": "execute_result"
    }
   ],
   "source": [
    "\"\"\"\n",
    "网格搜索(Grid Search)和Optuna，找到模型的最佳超参数组合\n",
    "网格搜索适用于超参数空间较小、离散且较少的情况，而Optuna适用于超参数空间较大、连续或离散且较多的情况\n",
    "下面要做的事情：\n",
    "1.换新的面心值标签，现在数据过拟合，训练集下降但是测试集上升或者波动\n",
    "2.考虑正则化或者假如droput层来防止过拟合\n",
    "3.考虑数据预处理中采用数据标准化，让数据均匀分布\n",
    "4.用不用考虑损失函数，学习率,epoch,adam优化器及其四个参数，的修改，模型用不用再添加几层让模型变复杂些（batch-size越大，训练越快，不影响准确率）\n",
    "5.早停法（Early Stopping）：在训练过程中监控验证集上的性能，一旦性能停止改善，在一定epoch后停止训练，并保存模型，以防止过拟合。可以参照外国那案例\n",
    "6.数据集的比例，不一定4：1，也可以95：5，当数据集足够大时，这样可以增加训练集数量\n",
    "\"\"\""
   ]
  },
  {
   "cell_type": "markdown",
   "id": "51c88f13",
   "metadata": {},
   "source": [
    "## 2.加载数据"
   ]
  },
  {
   "cell_type": "markdown",
   "id": "a4134756",
   "metadata": {},
   "source": [
    "\"\"\"\n",
    "1.功能：\n",
    "通过加载data和label文件，然后继续训练和预测。\n",
    "定义了一个6层卷积神经网络模型。每个卷积层后面跟着一个 ReLU 激活函数。第七层只有卷积，没有relu。\n",
    "输入数据n*64*64*2,这里的一个样本64*64可以看成一个图片格式（在此次任务中是速度，两者类似）\n",
    "输出是n*64*64*4\n",
    "\"\"\"\n",
    "\"\"\"txt保存为numpy格式发现可以减少存储大小，约缩小成1/4\n",
    "5.9G\t./all_data.npy\n",
    "12G\t./all_label.npy\n",
    "27G\t./data_64x64x2.txt\n",
    "53G\t./label_a_2x64x65x2.txt\n",
    "\"\"\""
   ]
  },
  {
   "cell_type": "code",
   "execution_count": 3,
   "id": "bea48b14",
   "metadata": {},
   "outputs": [],
   "source": [
    "# 直接加载npy文件为numpy格式\n",
    "all_data = np.load('./data/all_data.npy')\n",
    "# #直接加载npy文件为numpy格式\n",
    "all_label = np.load('./data/all_centerFace_label.npy')\n",
    "\n",
    "all_data = torch.tensor(all_data).float()\n",
    "all_label = torch.tensor(all_label).float()\n"
   ]
  },
  {
   "cell_type": "markdown",
   "id": "2cedeff1",
   "metadata": {},
   "source": [
    "## 3.构建模型"
   ]
  },
  {
   "cell_type": "code",
   "execution_count": 4,
   "id": "31a2c821",
   "metadata": {},
   "outputs": [],
   "source": [
    "\n",
    "#神经网络模型\n",
    "class Net(nn.Module):\n",
    "    def __init__(self, num_output_channels):\n",
    "        super(Net, self).__init__()\n",
    "\n",
    "        # 第一层卷积，使用64个大小为3x3的卷积核，输入数据的shape为2x64x64，使用ReLU激活函数。\n",
    "        # 输入通道数为2，输出通道数恒为64\n",
    "        self.conv1 = nn.Conv2d(2, 64, kernel_size=3, stride=1, padding=1)\n",
    "        self.relu1 = nn.ReLU()\n",
    "\n",
    "        # 第二层卷积，使用64个大小为3x3的卷积核，使用ReLU激活函数\n",
    "        self.conv2 = nn.Conv2d(64, 64, kernel_size=3, stride=1, padding=1)\n",
    "        self.relu2 = nn.ReLU()\n",
    "\n",
    "        # 第三层卷积，使用64个大小为3x3的卷积核，使用ReLU激活函数\n",
    "        self.conv3 = nn.Conv2d(64, 64, kernel_size=3, stride=1, padding=1)\n",
    "        self.relu3 = nn.ReLU()\n",
    "\n",
    "        # 第四层卷积，使用64个大小为3x3的卷积核，使用ReLU激活函数\n",
    "        self.conv4 = nn.Conv2d(64, 64, kernel_size=3, stride=1, padding=1)\n",
    "        self.relu4 = nn.ReLU()\n",
    "\n",
    "        # 第五层卷积，使用64个大小为3x3的卷积核，使用ReLU激活函数\n",
    "        self.conv5 = nn.Conv2d(64, 64, kernel_size=3, stride=1, padding=1)\n",
    "        self.relu5 = nn.ReLU()\n",
    "\n",
    "        # 第六层卷积，使用64个大小为3x3的卷积核，使用ReLU激活函数\n",
    "        self.conv6 = nn.Conv2d(64, 64, kernel_size=3, stride=1, padding=1)\n",
    "        self.relu6 = nn.ReLU()\n",
    "\n",
    "        # 第七层卷积，使用64个大小为3x3的卷积核，使用ReLU激活函数,输出数据为4*64*64\n",
    "        # 输入通道数为64，输出通道数恒为4\n",
    "        self.conv7 = nn.Conv2d(64, num_output_channels, kernel_size=3, stride=1, padding=1)\n",
    "\n",
    "\n",
    "\n",
    "    def forward(self, x):\n",
    "        x = self.conv1(x)  # x:torch.Size([10, 2, 64, 64])\n",
    "        x = self.relu1(x)\n",
    "\n",
    "        x = self.conv2(x)  # x:torch.Size([10, 64, 64, 64])\n",
    "        x = self.relu2(x)\n",
    "\n",
    "        x = self.conv3(x)  # x:  torch.Size([10, 64, 64, 64])\n",
    "        x = self.relu3(x)\n",
    "\n",
    "        x = self.conv4(x)\n",
    "        x = self.relu4(x)\n",
    "\n",
    "        x = self.conv5(x)\n",
    "        x = self.relu5(x)\n",
    "\n",
    "        x = self.conv6(x)\n",
    "        x = self.relu6(x)\n",
    "\n",
    "        x = self.conv7(x)\n",
    "\n",
    "        # 输出数据shape: torch.Size([10, 4, 64, 64]),10是batch_size大小\n",
    "        return x\n",
    "\n"
   ]
  },
  {
   "cell_type": "markdown",
   "id": "962aa34b",
   "metadata": {},
   "source": [
    "## 4.模型训练与测试"
   ]
  },
  {
   "cell_type": "code",
   "execution_count": 5,
   "id": "4249cbe8",
   "metadata": {},
   "outputs": [
    {
     "name": "stdout",
     "output_type": "stream",
     "text": [
      "采用DataParallel加速，device_count个数为： 4\n",
      "begin to train!!!\n",
      "running_train_loss: 2549.1050159931183\n",
      "running_test_loss: 606.6772332191467\n",
      "已完成第： 1 个epoch!\n",
      "模型训练和测试共用了: 51.282381772994995 秒！\n",
      "all of tasks Finished\n",
      "[2549.1050159931183]\n",
      "[606.6772332191467]\n"
     ]
    }
   ],
   "source": [
    "def train(num_output_channels):\n",
    "    \n",
    "    import time\n",
    "    start_time = time.time()\n",
    "\n",
    "    # 定义一个batch包含的样本数目\n",
    "    batch_size =128\n",
    "\n",
    "    # 生成数据集\n",
    "    x_train, x_test, y_train, y_test = train_test_split(all_data, all_label, test_size=0.2)\n",
    "\n",
    "    # 设置种子数\n",
    "    seed = 42\n",
    "    torch.manual_seed(seed)\n",
    "\n",
    "    # 划分数据集\n",
    "    trainset = torch.utils.data.TensorDataset(x_train, y_train)\n",
    "    trainloader = torch.utils.data.DataLoader(\n",
    "        trainset, batch_size=batch_size, shuffle=True)\n",
    "\n",
    "    # 划分数据集\n",
    "    testset = torch.utils.data.TensorDataset(x_test, y_test)\n",
    "    testloader = torch.utils.data.DataLoader(\n",
    "        testset, batch_size=batch_size, shuffle=True)\n",
    "\n",
    "\n",
    "    # 创建模型实例，并将模型移动到GPU设备上进行计算\n",
    "    net = Net(num_output_channels).to(device)\n",
    "    \n",
    "    # 加速训练：如果有多个GPU，则使用DataParallel模块\n",
    "    if torch.cuda.device_count() > 1:\n",
    "        net = nn.DataParallel(net)\n",
    "        print(\"采用DataParallel加速，device_count个数为：\",str(torch.cuda.device_count()))\n",
    "        \n",
    "    # 定义损失函数为均方误差\n",
    "    criterion = nn.MSELoss()  # 将预测值与真实标签之间的差值求平方和，再除以样本数n来得到平均损失值\n",
    "\n",
    "    # 定义优化器为Adam优化器,设置学习率为0.001\n",
    "    optimizer = optim.Adam(net.parameters(),lr = 0.001)\n",
    "\n",
    "    print('begin to train!!!')\n",
    "\n",
    "    # 训练模型\n",
    "    num_epochs = 1  # 训练轮数\n",
    "    train_loss = []\n",
    "    test_loss = []\n",
    "    for epoch in range(num_epochs):\n",
    "        running_train_loss = 0.0\n",
    "        for i, (inputs, labels) in enumerate(trainloader):\n",
    "            inputs, labels = inputs.to(device), labels.to(device)\n",
    "\n",
    "            # 将参数的梯度设为0\n",
    "            optimizer.zero_grad()\n",
    "\n",
    "            # 前向传播+后向传播+优化\n",
    "            outputs = net(inputs)\n",
    "            # inputs:torch.Size([10, 2, 64, 64])\n",
    "            # outputs:torch.Size([10, 4, 64, 64])\n",
    "            \"\"\"\n",
    "            criterion：表示所选的损失函数，这里选择的是MSE均方误差\n",
    "            outputs：模型在输入后得到的输出，它的形状是(batch_size, num_output_channels, height, width)\n",
    "            \"\"\"\n",
    "            loss = criterion(outputs, labels)  # labels   :torch.Size([10, 120, 64, 64])\n",
    "            loss.backward()  # 有了损失值后，就可以根据反向传播算法来更新模型参数，使得预测值更接近真实标签。\n",
    "            optimizer.step()\n",
    "\n",
    "            # 统计损失值\n",
    "            running_train_loss += loss.item()  # 在训练过程中，目标就是通过反向传播和优化算法尽可能地减小该损失值，提高模型的性能。\n",
    "            \n",
    "                        # 每20个batch打印一次平均损失值，这里batch-size=10,相当于每100个样本打印一次loss\n",
    "#             if i % 20 == 19:\n",
    "#                 print('[epoch:  %d, batch:%5d] train loss: %.3f' %\n",
    "#                       (epoch + 1, i + 1, running_train_loss))\n",
    "        print(\"running_train_loss:\",running_train_loss)        \n",
    "        train_loss.append(running_train_loss)\n",
    "            \n",
    "\n",
    "                \n",
    "        running_test_loss = 0.0\n",
    "        for i, (inputs, labels) in enumerate(testloader):\n",
    "            inputs, labels = inputs.to(device), labels.to(device)\n",
    "            # 前向传播(预测)+后向传播+优化\n",
    "            outputs = net(inputs)\n",
    "            # inputs:torch.Size([10, 2, 64, 64])\n",
    "            # outputs:torch.Size([10, 4, 64, 64])\n",
    "            \"\"\"\n",
    "            criterion：表示所选的损失函数，这里选择的是MSE均方误差\n",
    "            outputs：模型在输入后得到的输出，它的形状是(batch_size, num_output_channels, height, width)\n",
    "            \"\"\"\n",
    "            loss = criterion(outputs, labels)  # labels   :torch.Size([10, 120, 64, 64])\n",
    "\n",
    "            # 统计损失值\n",
    "            running_test_loss += loss.item()  # 在训练过程中，目标就是通过反向传播和优化算法尽可能地减小该损失值，提高模型的性能。\n",
    "            \n",
    "        print(\"running_test_loss:\",running_test_loss)        \n",
    "        test_loss.append(running_test_loss)\n",
    "        print(\"已完成第：\",str(epoch+1),\"个epoch!\")\n",
    "\n",
    "\n",
    "    end_time = time.time()\n",
    "    process_time = end_time - start_time\n",
    "    print(f\"模型训练和测试共用了: {process_time} 秒！\")#预处理data用了: 705.8258590698242 秒！\n",
    "    print('all of tasks Finished')\n",
    "    \n",
    "    # 保存整个模型\n",
    "    torch.save(net, './model/model_origin_100.pth')\n",
    "    \n",
    "    return train_loss,test_loss\n",
    "\n",
    "\n",
    "\"\"\"\n",
    "已完成第： 60 个epoch!\n",
    "模型训练和测试共用了: 2325.386168241501 秒！\n",
    "\"\"\"\n",
    "train_loss,test_loss  = train(num_output_channels=4)\n",
    "print(train_loss)\n",
    "print(test_loss)\n",
    "# 将数据写入文件，格式只能为二进制,二进制数据无法查看，想查看的话可以将其写入到txt里面或者用deebug查看\n",
    "np.save('./data/lossa/loss_model_100.npy', np.array([train_loss,test_loss]))"
   ]
  },
  {
   "cell_type": "code",
   "execution_count": 6,
   "id": "c5eef3da",
   "metadata": {},
   "outputs": [
    {
     "name": "stdout",
     "output_type": "stream",
     "text": [
      "torch.Size([192000, 2, 64, 64])\n",
      "torch.Size([192000, 4, 64, 64])\n"
     ]
    }
   ],
   "source": [
    "print(all_data.shape)\n",
    "print(all_label.shape)\n"
   ]
  },
  {
   "cell_type": "code",
   "execution_count": 7,
   "id": "1c768c45",
   "metadata": {},
   "outputs": [
    {
     "name": "stdout",
     "output_type": "stream",
     "text": [
      "[2549.10501599]\n"
     ]
    }
   ],
   "source": [
    "train_loss,test_loss = np.load('./data/lossa/loss_model_100.npy')\n",
    "print(train_loss)"
   ]
  },
  {
   "cell_type": "markdown",
   "id": "f9e124e0",
   "metadata": {},
   "source": [
    "# 5.可视化loss"
   ]
  },
  {
   "cell_type": "code",
   "execution_count": 8,
   "id": "6ff7cdd2",
   "metadata": {},
   "outputs": [
    {
     "name": "stdout",
     "output_type": "stream",
     "text": [
      "[0.0166]\n"
     ]
    },
    {
     "data": {
      "image/png": "[encoded data removed]",
      "text/plain": [
       "<Figure size 640x480 with 1 Axes>"
      ]
     },
     "metadata": {},
     "output_type": "display_data"
    }
   ],
   "source": [
    "import matplotlib.pyplot as plt\n",
    "# 创建 x 轴数据，假设为 epoch 数\n",
    "epoch = np.arange(1, len(train_loss) + 1)\n",
    "\n",
    "train_loss = [round(int(a)/(all_data.shape[0]*0.8), 5) for a in train_loss]\n",
    "print(train_loss)\n",
    "# 绘制训练损失曲线\n",
    "plt.plot(epoch, train_loss, 'b', label='Train Loss')\n",
    "\n",
    "# 关闭科学计数法\n",
    "plt.gca().get_yaxis().get_major_formatter().set_scientific(False)\n",
    "\n",
    "# 设置y轴范围下限为0\n",
    "# plt.ylim(bottom=0)\n",
    "\n",
    "# 设置图表标题和轴标签\n",
    "plt.title('Train Loss')\n",
    "plt.xlabel('epoch')\n",
    "plt.ylabel('Loss')\n",
    "\n",
    "# 添加图例\n",
    "plt.legend()\n",
    "\n",
    "# 显示图表\n",
    "plt.show()"
   ]
  },
  {
   "cell_type": "code",
   "execution_count": 9,
   "id": "82ebd587",
   "metadata": {},
   "outputs": [
    {
     "name": "stdout",
     "output_type": "stream",
     "text": [
      "[606.67723322]\n"
     ]
    },
    {
     "data": {
      "image/png": "[encoded data removed]",
      "text/plain": [
       "<Figure size 640x480 with 1 Axes>"
      ]
     },
     "metadata": {},
     "output_type": "display_data"
    }
   ],
   "source": [
    "# 创建 x 轴数据，假设为 epoch 数\n",
    "epoch = np.arange(1, len(test_loss) + 1)\n",
    "print(test_loss)\n",
    "test_loss = [round(int(a)/(all_data.shape[0]*0.2), 5) for a in test_loss]\n",
    "\n",
    "\n",
    "# 绘制测试损失曲线\n",
    "plt.plot(epoch, test_loss, 'r', label='Test Loss')\n",
    "\n",
    "# 设置图表标题和轴标签\n",
    "plt.title('Test Loss')\n",
    "plt.xlabel('epoch')\n",
    "plt.ylabel('Loss')\n",
    "\n",
    "# 添加图例\n",
    "plt.legend()\n",
    "\n",
    "# 显示图表\n",
    "plt.show()"
   ]
  },
  {
   "cell_type": "code",
   "execution_count": null,
   "id": "b421ecd7",
   "metadata": {},
   "outputs": [],
   "source": []
  },
  {
   "cell_type": "code",
   "execution_count": 11,
   "id": "76b28f04",
   "metadata": {},
   "outputs": [],
   "source": [
    "# 加载模型\n",
    "model = torch.load('./model/model_origin_100.pth')"
   ]
  },
  {
   "cell_type": "code",
   "execution_count": 12,
   "id": "39bec1e7",
   "metadata": {},
   "outputs": [
    {
     "ename": "AttributeError",
     "evalue": "'DataParallel' object has no attribute 'summary'",
     "output_type": "error",
     "traceback": [
      "\u001b[0;31m---------------------------------------------------------------------------\u001b[0m",
      "\u001b[0;31mAttributeError\u001b[0m                            Traceback (most recent call last)",
      "Cell \u001b[0;32mIn[12], line 1\u001b[0m\n\u001b[0;32m----> 1\u001b[0m \u001b[38;5;28mprint\u001b[39m(\u001b[43mmodel\u001b[49m\u001b[38;5;241;43m.\u001b[39;49m\u001b[43msummary\u001b[49m())\n",
      "File \u001b[0;32m~/.local/lib/python3.8/site-packages/torch/nn/modules/module.py:1130\u001b[0m, in \u001b[0;36mModule.__getattr__\u001b[0;34m(self, name)\u001b[0m\n\u001b[1;32m   1128\u001b[0m     \u001b[38;5;28;01mif\u001b[39;00m name \u001b[38;5;129;01min\u001b[39;00m modules:\n\u001b[1;32m   1129\u001b[0m         \u001b[38;5;28;01mreturn\u001b[39;00m modules[name]\n\u001b[0;32m-> 1130\u001b[0m \u001b[38;5;28;01mraise\u001b[39;00m \u001b[38;5;167;01mAttributeError\u001b[39;00m(\u001b[38;5;124m\"\u001b[39m\u001b[38;5;124m'\u001b[39m\u001b[38;5;132;01m{}\u001b[39;00m\u001b[38;5;124m'\u001b[39m\u001b[38;5;124m object has no attribute \u001b[39m\u001b[38;5;124m'\u001b[39m\u001b[38;5;132;01m{}\u001b[39;00m\u001b[38;5;124m'\u001b[39m\u001b[38;5;124m\"\u001b[39m\u001b[38;5;241m.\u001b[39mformat(\n\u001b[1;32m   1131\u001b[0m     \u001b[38;5;28mtype\u001b[39m(\u001b[38;5;28mself\u001b[39m)\u001b[38;5;241m.\u001b[39m\u001b[38;5;18m__name__\u001b[39m, name))\n",
      "\u001b[0;31mAttributeError\u001b[0m: 'DataParallel' object has no attribute 'summary'"
     ]
    }
   ],
   "source": []
  },
  {
   "cell_type": "code",
   "execution_count": null,
   "id": "d79d7879",
   "metadata": {},
   "outputs": [],
   "source": []
  }
 ],
 "metadata": {
  "kernelspec": {
   "display_name": "Python 3 (ipykernel)",
   "language": "python",
   "name": "python3"
  },
  "language_info": {
   "codemirror_mode": {
    "name": "ipython",
    "version": 3
   },
   "file_extension": ".py",
   "mimetype": "text/x-python",
   "name": "python",
   "nbconvert_exporter": "python",
   "pygments_lexer": "ipython3",
   "version": "3.8.10"
  }
 },
 "nbformat": 4,
 "nbformat_minor": 5
}
