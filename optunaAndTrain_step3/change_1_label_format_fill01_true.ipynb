{
 "cells": [
  {
   "cell_type": "code",
   "execution_count": 1,
   "id": "5bf1d6dc",
   "metadata": {},
   "outputs": [],
   "source": [
    "import torch\n",
    "import torch.nn as nn\n",
    "import torch.optim as optim\n",
    "import re\n",
    "import numpy as np\n",
    "from sklearn.model_selection import train_test_split\n",
    "import matplotlib.pyplot as plt\n",
    "\n",
    "np.set_printoptions(threshold=np.inf)\n",
    "device = torch.device(\"cuda\" if torch.cuda.is_available() else \"cpu\")\n"
   ]
  },
  {
   "cell_type": "code",
   "execution_count": null,
   "id": "7c2f804f",
   "metadata": {},
   "outputs": [],
   "source": [
    "\"\"\"\n",
    "实现：\n",
    "#保存数据，将0-1之外的元素更新为0和1,并重新保存数据,将all_label.npy保存为all_label_repair01.npy\n",
    "\n",
    "\"\"\"\n"
   ]
  },
  {
   "cell_type": "code",
   "execution_count": 34,
   "id": "6b5fa085",
   "metadata": {},
   "outputs": [],
   "source": [
    "# 直接加载npy文件为numpy格式\n",
    "all_data = np.load('../data/all_data.npy')\n",
    "# #直接加载npy文件为numpy格式\n",
    "all_label = np.load('../data/all_label.npy')\n",
    "\n",
    "all_data = torch.tensor(all_data).float()\n",
    "all_label = torch.tensor(all_label).float()\n"
   ]
  },
  {
   "cell_type": "code",
   "execution_count": 3,
   "id": "b2db32e0",
   "metadata": {},
   "outputs": [
    {
     "name": "stdout",
     "output_type": "stream",
     "text": [
      "torch.Size([192000, 2, 64, 64])\n",
      "torch.Size([192000, 4, 64, 64])\n"
     ]
    }
   ],
   "source": [
    "print(all_data.shape)\n",
    "print(all_label.shape)"
   ]
  },
  {
   "cell_type": "code",
   "execution_count": 36,
   "id": "7f78e902",
   "metadata": {},
   "outputs": [],
   "source": [
    "# 将大于1的元素改为1，小于0的元素改为0\n",
    "all_label = np.where(all_label < 0, 0, all_label)"
   ]
  },
  {
   "cell_type": "code",
   "execution_count": 37,
   "id": "1e92400d",
   "metadata": {},
   "outputs": [],
   "source": [
    "all_label = np.where(all_label > 1, 1, all_label)"
   ]
  },
  {
   "cell_type": "code",
   "execution_count": null,
   "id": "10cb4031",
   "metadata": {},
   "outputs": [],
   "source": [
    "\n",
    "# 打印修改后的数据\n",
    "print(all_label[0,0])"
   ]
  },
  {
   "cell_type": "code",
   "execution_count": null,
   "id": "ab1e021a",
   "metadata": {},
   "outputs": [],
   "source": [
    "# 统计为0和1的个数\n",
    "count_zero = np.count_nonzero(all_label == 0)\n",
    "count_one = np.count_nonzero(all_label == 1)\n",
    "\n",
    "# 打印统计结果\n",
    "print(\"0的个数：\", count_zero)\n",
    "print(\"1的个数：\", count_one)\n",
    "print(192000*64*64*4)"
   ]
  },
  {
   "cell_type": "code",
   "execution_count": 39,
   "id": "62925b96",
   "metadata": {},
   "outputs": [
    {
     "name": "stdout",
     "output_type": "stream",
     "text": [
      "[8075983, 7737157, 8071765, 8043031, 7934057, 7969469, 8144492, 8099850, 8113342, 7980639, 7915893, 7957480, 8184116, 8011085, 8089072, 7972588, 8010083, 8033865, 7973523, 1597068]\n",
      "[8063938, 7725497, 8069725, 8039934, 7936082, 7967047, 8135717, 8092037, 8117841, 7989290, 7930367, 7951666, 8183124, 8000554, 8088450, 7969063, 8019716, 8019804, 7976393, 1592559]\n"
     ]
    }
   ],
   "source": [
    "\"\"\"统计更改后0-1的数量，这个每隔1w个样本统计一下1w样本里0,1的个数\"\"\"\n",
    "\n",
    "count_label_0 = []\n",
    "count_label_1 = []\n",
    "interval = 10000\n",
    "for i in range(0,192001,interval):\n",
    "    count_zero = np.count_nonzero(all_label[i:i+interval] == 0)\n",
    "    count_one = np.count_nonzero(all_label[i:i+interval] == 1)\n",
    "    if count_zero>0:\n",
    "        count_label_0.append(count_zero)\n",
    "    if count_one>0:\n",
    "        count_label_1.append(count_one)\n",
    "print(count_label_0)  \n",
    "print(count_label_1)"
   ]
  },
  {
   "cell_type": "code",
   "execution_count": 43,
   "id": "0fc7376a",
   "metadata": {},
   "outputs": [
    {
     "data": {
      "image/png": "[encoded data removed]",
      "text/plain": [
       "<Figure size 640x480 with 1 Axes>"
      ]
     },
     "metadata": {},
     "output_type": "display_data"
    }
   ],
   "source": [
    "import matplotlib.pyplot as plt   #导入包\n",
    "fig = plt.figure()              #创建空图\n",
    "x_label = [i for i in range(len(count_label_0))]     #x轴的坐标\n",
    "y_label = count_label_0\n",
    "y1_label = count_label_1\n",
    "plt.scatter(x_label,y_label)  #构建散点图，可以设置点颜色属性\n",
    "# plt.scatter(x_label,y1_label)  #构建散点图，可以设置点颜色属性\n",
    "plt.title(\"scatter\")                 #设置标题，这里只能显示英文，中文显示乱码\n",
    "plt.ylabel(\"y_label\")            #设置y轴名称\n",
    "plt.xlabel(\"x_label\")            #设置x轴名称\n",
    "plt.show()  "
   ]
  },
  {
   "cell_type": "code",
   "execution_count": null,
   "id": "8fe8ff63",
   "metadata": {},
   "outputs": [],
   "source": [
    "#保存数据，将0-1之外的元素更新为0和1,并重新保存数据\n",
    "# np.save('../data/all_label_repair01.npy', all_label)"
   ]
  }
 ],
 "metadata": {
  "kernelspec": {
   "display_name": "Python 3 (ipykernel)",
   "language": "python",
   "name": "python3"
  },
  "language_info": {
   "codemirror_mode": {
    "name": "ipython",
    "version": 3
   },
   "file_extension": ".py",
   "mimetype": "text/x-python",
   "name": "python",
   "nbconvert_exporter": "python",
   "pygments_lexer": "ipython3",
   "version": "3.8.10"
  }
 },
 "nbformat": 4,
 "nbformat_minor": 5
}
